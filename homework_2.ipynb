{
 "cells": [
  {
   "cell_type": "code",
   "execution_count": null,
   "metadata": {},
   "outputs": [],
   "source": [
    "import numpy as np\n",
    "import matplotlib.pyplot as plt\n",
    "%matplotlib inline"
   ]
  },
  {
   "cell_type": "code",
   "execution_count": null,
   "metadata": {},
   "outputs": [],
   "source": [
    "pi = 2.*np.pi\n",
    "\n",
    "x = np.linspace(0., pi, 1000)"
   ]
  },
  {
   "cell_type": "code",
   "execution_count": null,
   "metadata": {},
   "outputs": [],
   "source": [
    "y_1 = 5.5*np.cos(2*x) + 5.5\n",
    "y_2 = 0.02*np.exp(x)\n",
    "y_3 = 0.25 * x**2 + 0.1*np.sin(10*x)\n",
    "\n",
    "plt.plot(x, y_1, 'r')\n",
    "plt.plot(x, y_2, 'b')\n",
    "plt.plot(x, y_3, 'y')\n",
    "\n",
    "plt.title(\"Fig 1\")\n",
    "plt.xlabel('Time in ASTR 119')\n",
    "plt.xlim(0, pi)\n",
    "plt.ylabel('Measures Awesomeness')\n",
    "plt.ylim(-1, 10)\n",
    "plt.show()"
   ]
  },
  {
   "cell_type": "code",
   "execution_count": null,
   "metadata": {},
   "outputs": [],
   "source": []
  }
 ],
 "metadata": {
  "kernelspec": {
   "display_name": "Python 3",
   "language": "python",
   "name": "python3"
  },
  "language_info": {
   "codemirror_mode": {
    "name": "ipython",
    "version": 3
   },
   "file_extension": ".py",
   "mimetype": "text/x-python",
   "name": "python",
   "nbconvert_exporter": "python",
   "pygments_lexer": "ipython3",
   "version": "3.6.5"
  }
 },
 "nbformat": 4,
 "nbformat_minor": 2
}
